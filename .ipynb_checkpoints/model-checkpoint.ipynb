{
 "cells": [
  {
   "cell_type": "code",
   "execution_count": 1,
   "metadata": {},
   "outputs": [],
   "source": [
    "from keras.preprocessing.image import ImageDataGenerator"
   ]
  },
  {
   "cell_type": "markdown",
   "metadata": {},
   "source": [
    "# Data Preparation"
   ]
  },
  {
   "cell_type": "code",
   "execution_count": 2,
   "metadata": {},
   "outputs": [
    {
     "name": "stdout",
     "output_type": "stream",
     "text": [
      "Found 8000 images belonging to 2 classes.\n"
     ]
    }
   ],
   "source": [
    "train_data_gen  = ImageDataGenerator(rescale = 1./255,\n",
    "                                    shear_range = 0.2,\n",
    "                                    zoom_range = 0.2,\n",
    "                                    horizontal_flip = True\n",
    "                                    )\n",
    "\n",
    "train_gen = train_data_gen.flow_from_directory(\"./dataset/Training\",\n",
    "                                                  target_size = (64, 64),\n",
    "                                                  batch_size = 32,\n",
    "                                                  shuffle = True,\n",
    "                                                  class_mode = 'binary')"
   ]
  },
  {
   "cell_type": "code",
   "execution_count": 3,
   "metadata": {},
   "outputs": [
    {
     "name": "stdout",
     "output_type": "stream",
     "text": [
      "Found 2000 images belonging to 2 classes.\n"
     ]
    }
   ],
   "source": [
    "valid_data_gen = ImageDataGenerator(rescale = 1./255)\n",
    "valid_gen = valid_data_gen.flow_from_directory(\"./dataset/Validation\",\n",
    "                                               target_size = (64, 64),\n",
    "                                               batch_size = 32,\n",
    "                                               shuffle = True,\n",
    "                                               class_mode = \"binary\")"
   ]
  },
  {
   "cell_type": "markdown",
   "metadata": {},
   "source": [
    "# CNN Model"
   ]
  },
  {
   "cell_type": "code",
   "execution_count": 4,
   "metadata": {},
   "outputs": [],
   "source": [
    "from keras.models import Sequential\n",
    "from keras.layers import *"
   ]
  },
  {
   "cell_type": "code",
   "execution_count": 10,
   "metadata": {},
   "outputs": [
    {
     "name": "stdout",
     "output_type": "stream",
     "text": [
      "Model: \"CNN\"\n",
      "_________________________________________________________________\n",
      "Layer (type)                 Output Shape              Param #   \n",
      "=================================================================\n",
      "conv2d_8 (Conv2D)            (None, 64, 64, 32)        896       \n",
      "_________________________________________________________________\n",
      "max_pooling2d_8 (MaxPooling2 (None, 32, 32, 32)        0         \n",
      "_________________________________________________________________\n",
      "conv2d_9 (Conv2D)            (None, 32, 32, 32)        9248      \n",
      "_________________________________________________________________\n",
      "max_pooling2d_9 (MaxPooling2 (None, 16, 16, 32)        0         \n",
      "_________________________________________________________________\n",
      "flatten_3 (Flatten)          (None, 8192)              0         \n",
      "_________________________________________________________________\n",
      "dense_6 (Dense)              (None, 128)               1048704   \n",
      "_________________________________________________________________\n",
      "dense_7 (Dense)              (None, 1)                 129       \n",
      "=================================================================\n",
      "Total params: 1,058,977\n",
      "Trainable params: 1,058,977\n",
      "Non-trainable params: 0\n",
      "_________________________________________________________________\n"
     ]
    }
   ],
   "source": [
    "model = Sequential(name = \"CNN\")\n",
    "model.add(Conv2D(filters = 32, kernel_size = (3,3), padding = \"same\", activation = \"relu\", input_shape = (64, 64, 3)))\n",
    "model.add(MaxPooling2D(pool_size = (2,2), strides = 2))\n",
    "\n",
    "model.add(Conv2D(filters = 32, kernel_size = (3,3), padding = \"same\", activation = \"relu\"))\n",
    "model.add(MaxPooling2D(pool_size = 2, strides = 2))\n",
    "\n",
    "model.add(Flatten())\n",
    "model.add(Dense(units = 128, activation = \"relu\"))\n",
    "model.add(Dense(units = 1, activation = \"sigmoid\"))\n",
    "model.summary()"
   ]
  },
  {
   "cell_type": "code",
   "execution_count": 6,
   "metadata": {},
   "outputs": [],
   "source": [
    "model.compile(optimizer = \"adam\", loss = \"binary_crossentropy\", metrics = [\"accuracy\"]) "
   ]
  },
  {
   "cell_type": "code",
   "execution_count": 7,
   "metadata": {
    "scrolled": false
   },
   "outputs": [
    {
     "name": "stdout",
     "output_type": "stream",
     "text": [
      "WARNING:tensorflow:From <ipython-input-7-470df19faa1b>:1: Model.fit_generator (from tensorflow.python.keras.engine.training) is deprecated and will be removed in a future version.\n",
      "Instructions for updating:\n",
      "Please use Model.fit, which supports generators.\n",
      "Epoch 1/100\n",
      "250/250 [==============================] - 16s 63ms/step - loss: 0.6839 - accuracy: 0.5525 - val_loss: 0.6603 - val_accuracy: 0.6380\n",
      "Epoch 2/100\n",
      "250/250 [==============================] - 16s 63ms/step - loss: 0.6366 - accuracy: 0.6421 - val_loss: 0.5948 - val_accuracy: 0.6740\n",
      "Epoch 3/100\n",
      "250/250 [==============================] - 16s 65ms/step - loss: 0.5803 - accuracy: 0.6969 - val_loss: 0.5368 - val_accuracy: 0.7245\n",
      "Epoch 4/100\n",
      "250/250 [==============================] - 16s 65ms/step - loss: 0.5605 - accuracy: 0.7129 - val_loss: 0.5310 - val_accuracy: 0.7500\n",
      "Epoch 5/100\n",
      "250/250 [==============================] - 16s 66ms/step - loss: 0.5174 - accuracy: 0.7441 - val_loss: 0.5080 - val_accuracy: 0.7535\n",
      "Epoch 6/100\n",
      "250/250 [==============================] - 17s 67ms/step - loss: 0.4942 - accuracy: 0.7558 - val_loss: 0.4840 - val_accuracy: 0.7695\n",
      "Epoch 7/100\n",
      "250/250 [==============================] - 17s 66ms/step - loss: 0.4786 - accuracy: 0.7706 - val_loss: 0.4475 - val_accuracy: 0.7880\n",
      "Epoch 8/100\n",
      "250/250 [==============================] - 17s 66ms/step - loss: 0.4543 - accuracy: 0.7900 - val_loss: 0.4513 - val_accuracy: 0.7795\n",
      "Epoch 9/100\n",
      "250/250 [==============================] - 17s 67ms/step - loss: 0.4360 - accuracy: 0.7925 - val_loss: 0.4349 - val_accuracy: 0.7950\n",
      "Epoch 10/100\n",
      "250/250 [==============================] - 17s 67ms/step - loss: 0.4185 - accuracy: 0.8029 - val_loss: 0.4480 - val_accuracy: 0.7940\n",
      "Epoch 11/100\n",
      "250/250 [==============================] - 17s 68ms/step - loss: 0.4004 - accuracy: 0.8170 - val_loss: 0.4838 - val_accuracy: 0.7750\n",
      "Epoch 12/100\n",
      "250/250 [==============================] - 17s 68ms/step - loss: 0.3876 - accuracy: 0.8205 - val_loss: 0.4287 - val_accuracy: 0.7990\n",
      "Epoch 13/100\n",
      "250/250 [==============================] - 17s 68ms/step - loss: 0.3808 - accuracy: 0.8284 - val_loss: 0.4317 - val_accuracy: 0.8030\n",
      "Epoch 14/100\n",
      "250/250 [==============================] - 17s 67ms/step - loss: 0.3680 - accuracy: 0.8372 - val_loss: 0.4824 - val_accuracy: 0.7665\n",
      "Epoch 15/100\n",
      "250/250 [==============================] - 17s 67ms/step - loss: 0.3543 - accuracy: 0.8462 - val_loss: 0.4270 - val_accuracy: 0.8110\n",
      "Epoch 16/100\n",
      "250/250 [==============================] - 17s 68ms/step - loss: 0.3261 - accuracy: 0.8579 - val_loss: 0.4052 - val_accuracy: 0.8220\n",
      "Epoch 17/100\n",
      "250/250 [==============================] - 17s 68ms/step - loss: 0.3210 - accuracy: 0.8583 - val_loss: 0.4004 - val_accuracy: 0.8190\n",
      "Epoch 18/100\n",
      "250/250 [==============================] - 17s 68ms/step - loss: 0.3145 - accuracy: 0.8624 - val_loss: 0.3908 - val_accuracy: 0.8170\n",
      "Epoch 19/100\n",
      "250/250 [==============================] - 17s 68ms/step - loss: 0.3039 - accuracy: 0.8686 - val_loss: 0.3995 - val_accuracy: 0.8250\n",
      "Epoch 20/100\n",
      "250/250 [==============================] - 17s 68ms/step - loss: 0.2843 - accuracy: 0.8799 - val_loss: 0.4129 - val_accuracy: 0.8200\n",
      "Epoch 21/100\n",
      "250/250 [==============================] - 17s 68ms/step - loss: 0.2754 - accuracy: 0.8852 - val_loss: 0.4498 - val_accuracy: 0.7995\n",
      "Epoch 22/100\n",
      "250/250 [==============================] - 17s 68ms/step - loss: 0.2648 - accuracy: 0.8854 - val_loss: 0.4065 - val_accuracy: 0.8345\n",
      "Epoch 23/100\n",
      "250/250 [==============================] - 17s 68ms/step - loss: 0.2557 - accuracy: 0.8938 - val_loss: 0.4766 - val_accuracy: 0.8120\n",
      "Epoch 24/100\n",
      "250/250 [==============================] - 17s 68ms/step - loss: 0.2491 - accuracy: 0.8964 - val_loss: 0.4282 - val_accuracy: 0.8210\n",
      "Epoch 25/100\n",
      "250/250 [==============================] - 17s 68ms/step - loss: 0.2408 - accuracy: 0.8992 - val_loss: 0.4225 - val_accuracy: 0.8235\n",
      "Epoch 26/100\n",
      "250/250 [==============================] - 17s 68ms/step - loss: 0.2270 - accuracy: 0.9060 - val_loss: 0.4147 - val_accuracy: 0.8450\n",
      "Epoch 27/100\n",
      "250/250 [==============================] - 17s 69ms/step - loss: 0.2259 - accuracy: 0.9062 - val_loss: 0.4192 - val_accuracy: 0.8200\n",
      "Epoch 28/100\n",
      "250/250 [==============================] - 17s 69ms/step - loss: 0.2081 - accuracy: 0.9111 - val_loss: 0.4648 - val_accuracy: 0.8085\n",
      "Epoch 29/100\n",
      "250/250 [==============================] - 17s 69ms/step - loss: 0.2017 - accuracy: 0.9170 - val_loss: 0.4843 - val_accuracy: 0.8360\n",
      "Epoch 30/100\n",
      "250/250 [==============================] - 17s 69ms/step - loss: 0.1996 - accuracy: 0.9212 - val_loss: 0.4470 - val_accuracy: 0.8385\n",
      "Epoch 31/100\n",
      "250/250 [==============================] - 17s 68ms/step - loss: 0.1772 - accuracy: 0.9296 - val_loss: 0.6112 - val_accuracy: 0.8095\n",
      "Epoch 32/100\n",
      "250/250 [==============================] - 17s 69ms/step - loss: 0.1826 - accuracy: 0.9251 - val_loss: 0.4649 - val_accuracy: 0.8275\n",
      "Epoch 33/100\n",
      "250/250 [==============================] - 17s 69ms/step - loss: 0.1668 - accuracy: 0.9335 - val_loss: 0.5031 - val_accuracy: 0.8370\n",
      "Epoch 34/100\n",
      "250/250 [==============================] - 17s 69ms/step - loss: 0.1716 - accuracy: 0.9317 - val_loss: 0.5014 - val_accuracy: 0.8300\n",
      "Epoch 35/100\n",
      "250/250 [==============================] - 17s 69ms/step - loss: 0.1609 - accuracy: 0.9358 - val_loss: 0.5232 - val_accuracy: 0.8255\n",
      "Epoch 36/100\n",
      "250/250 [==============================] - 17s 69ms/step - loss: 0.1494 - accuracy: 0.9384 - val_loss: 0.5006 - val_accuracy: 0.8130\n",
      "Epoch 37/100\n",
      "250/250 [==============================] - 17s 69ms/step - loss: 0.1437 - accuracy: 0.9444 - val_loss: 0.6249 - val_accuracy: 0.8010\n",
      "Epoch 38/100\n",
      "250/250 [==============================] - 17s 68ms/step - loss: 0.1454 - accuracy: 0.9415 - val_loss: 0.6728 - val_accuracy: 0.7975\n",
      "Epoch 39/100\n",
      "250/250 [==============================] - 17s 68ms/step - loss: 0.1355 - accuracy: 0.9485 - val_loss: 0.5522 - val_accuracy: 0.8335\n",
      "Epoch 40/100\n",
      "250/250 [==============================] - 17s 69ms/step - loss: 0.1315 - accuracy: 0.9495 - val_loss: 0.6361 - val_accuracy: 0.8155\n",
      "Epoch 41/100\n",
      "250/250 [==============================] - 17s 68ms/step - loss: 0.1224 - accuracy: 0.9529 - val_loss: 0.5417 - val_accuracy: 0.8300\n",
      "Epoch 42/100\n",
      "250/250 [==============================] - 17s 69ms/step - loss: 0.1241 - accuracy: 0.9529 - val_loss: 0.5054 - val_accuracy: 0.8380\n",
      "Epoch 43/100\n",
      "250/250 [==============================] - 17s 68ms/step - loss: 0.1233 - accuracy: 0.9504 - val_loss: 0.5498 - val_accuracy: 0.8330\n",
      "Epoch 44/100\n",
      "250/250 [==============================] - 17s 69ms/step - loss: 0.1251 - accuracy: 0.9509 - val_loss: 0.5977 - val_accuracy: 0.8260\n",
      "Epoch 45/100\n",
      "250/250 [==============================] - 17s 69ms/step - loss: 0.1091 - accuracy: 0.9575 - val_loss: 0.5685 - val_accuracy: 0.8390\n",
      "Epoch 46/100\n",
      "250/250 [==============================] - 17s 69ms/step - loss: 0.1120 - accuracy: 0.9585 - val_loss: 0.5804 - val_accuracy: 0.8280\n",
      "Epoch 47/100\n",
      "250/250 [==============================] - 17s 69ms/step - loss: 0.1066 - accuracy: 0.9584 - val_loss: 0.6670 - val_accuracy: 0.8270\n",
      "Epoch 48/100\n",
      "250/250 [==============================] - 17s 68ms/step - loss: 0.1083 - accuracy: 0.9596 - val_loss: 0.6912 - val_accuracy: 0.7960\n",
      "Epoch 49/100\n",
      "250/250 [==============================] - 17s 69ms/step - loss: 0.1135 - accuracy: 0.9546 - val_loss: 0.5789 - val_accuracy: 0.8320\n",
      "Epoch 50/100\n",
      "250/250 [==============================] - 17s 69ms/step - loss: 0.0996 - accuracy: 0.9619 - val_loss: 0.6525 - val_accuracy: 0.8285\n",
      "Epoch 51/100\n",
      "250/250 [==============================] - 17s 69ms/step - loss: 0.1070 - accuracy: 0.9596 - val_loss: 0.5979 - val_accuracy: 0.8350\n",
      "Epoch 52/100\n",
      "250/250 [==============================] - 18s 72ms/step - loss: 0.0965 - accuracy: 0.9622 - val_loss: 0.6748 - val_accuracy: 0.8340\n",
      "Epoch 53/100\n",
      "250/250 [==============================] - 17s 69ms/step - loss: 0.0940 - accuracy: 0.9645 - val_loss: 0.7628 - val_accuracy: 0.8115\n",
      "Epoch 54/100\n",
      "250/250 [==============================] - 18s 70ms/step - loss: 0.0848 - accuracy: 0.9674 - val_loss: 0.6653 - val_accuracy: 0.8245\n",
      "Epoch 55/100\n"
     ]
    },
    {
     "name": "stdout",
     "output_type": "stream",
     "text": [
      "250/250 [==============================] - 17s 67ms/step - loss: 0.0810 - accuracy: 0.9690 - val_loss: 0.7075 - val_accuracy: 0.8200\n",
      "Epoch 56/100\n",
      "250/250 [==============================] - 17s 68ms/step - loss: 0.0858 - accuracy: 0.9684 - val_loss: 0.7200 - val_accuracy: 0.8220\n",
      "Epoch 57/100\n",
      "250/250 [==============================] - 17s 67ms/step - loss: 0.0849 - accuracy: 0.9668 - val_loss: 0.6711 - val_accuracy: 0.8260\n",
      "Epoch 58/100\n",
      "250/250 [==============================] - 17s 67ms/step - loss: 0.0866 - accuracy: 0.9663 - val_loss: 0.6856 - val_accuracy: 0.8310\n",
      "Epoch 59/100\n",
      "250/250 [==============================] - 17s 68ms/step - loss: 0.0718 - accuracy: 0.9730 - val_loss: 0.7696 - val_accuracy: 0.8285\n",
      "Epoch 60/100\n",
      "250/250 [==============================] - 18s 72ms/step - loss: 0.0728 - accuracy: 0.9725 - val_loss: 0.7783 - val_accuracy: 0.8220\n",
      "Epoch 61/100\n",
      "250/250 [==============================] - 19s 74ms/step - loss: 0.0747 - accuracy: 0.9729 - val_loss: 0.6964 - val_accuracy: 0.8260\n",
      "Epoch 62/100\n",
      "250/250 [==============================] - 19s 76ms/step - loss: 0.0638 - accuracy: 0.9758 - val_loss: 0.7422 - val_accuracy: 0.8150\n",
      "Epoch 63/100\n",
      "250/250 [==============================] - 17s 70ms/step - loss: 0.0761 - accuracy: 0.9725 - val_loss: 0.7261 - val_accuracy: 0.8175\n",
      "Epoch 64/100\n",
      "250/250 [==============================] - 17s 69ms/step - loss: 0.0799 - accuracy: 0.9704 - val_loss: 0.8311 - val_accuracy: 0.8205\n",
      "Epoch 65/100\n",
      "250/250 [==============================] - 17s 69ms/step - loss: 0.0760 - accuracy: 0.9714 - val_loss: 0.6983 - val_accuracy: 0.8175\n",
      "Epoch 66/100\n",
      "250/250 [==============================] - 17s 69ms/step - loss: 0.0729 - accuracy: 0.9744 - val_loss: 0.6808 - val_accuracy: 0.8355\n",
      "Epoch 67/100\n",
      "250/250 [==============================] - 17s 68ms/step - loss: 0.0713 - accuracy: 0.9746 - val_loss: 0.8575 - val_accuracy: 0.8115\n",
      "Epoch 68/100\n",
      "250/250 [==============================] - 17s 69ms/step - loss: 0.0670 - accuracy: 0.9769 - val_loss: 0.7878 - val_accuracy: 0.8200\n",
      "Epoch 69/100\n",
      "250/250 [==============================] - 17s 68ms/step - loss: 0.0697 - accuracy: 0.9754 - val_loss: 0.7330 - val_accuracy: 0.8285\n",
      "Epoch 70/100\n",
      "250/250 [==============================] - 17s 69ms/step - loss: 0.0732 - accuracy: 0.9737 - val_loss: 0.7828 - val_accuracy: 0.8255\n",
      "Epoch 71/100\n",
      "250/250 [==============================] - 21s 82ms/step - loss: 0.0602 - accuracy: 0.9789 - val_loss: 0.7254 - val_accuracy: 0.8295\n",
      "Epoch 72/100\n",
      "250/250 [==============================] - 17s 68ms/step - loss: 0.0702 - accuracy: 0.9739 - val_loss: 0.7878 - val_accuracy: 0.8245702 - accuracy: 0.97\n",
      "Epoch 73/100\n",
      "250/250 [==============================] - 17s 68ms/step - loss: 0.0584 - accuracy: 0.9793 - val_loss: 0.8325 - val_accuracy: 0.8360\n",
      "Epoch 74/100\n",
      "250/250 [==============================] - 17s 68ms/step - loss: 0.0575 - accuracy: 0.9793 - val_loss: 0.7884 - val_accuracy: 0.8240\n",
      "Epoch 75/100\n",
      "250/250 [==============================] - 17s 68ms/step - loss: 0.0726 - accuracy: 0.9745 - val_loss: 0.7774 - val_accuracy: 0.8275\n",
      "Epoch 76/100\n",
      "250/250 [==============================] - 17s 69ms/step - loss: 0.0586 - accuracy: 0.9775 - val_loss: 0.9547 - val_accuracy: 0.8175\n",
      "Epoch 77/100\n",
      "250/250 [==============================] - 19s 75ms/step - loss: 0.0670 - accuracy: 0.9734 - val_loss: 0.8194 - val_accuracy: 0.8220\n",
      "Epoch 78/100\n",
      "250/250 [==============================] - 21s 83ms/step - loss: 0.0566 - accuracy: 0.9785 - val_loss: 0.8885 - val_accuracy: 0.8260\n",
      "Epoch 79/100\n",
      "250/250 [==============================] - 18s 74ms/step - loss: 0.0541 - accuracy: 0.9803 - val_loss: 0.8332 - val_accuracy: 0.8240\n",
      "Epoch 80/100\n",
      "250/250 [==============================] - 19s 75ms/step - loss: 0.0506 - accuracy: 0.9815 - val_loss: 0.8101 - val_accuracy: 0.8285\n",
      "Epoch 81/100\n",
      "250/250 [==============================] - 19s 75ms/step - loss: 0.0624 - accuracy: 0.9771 - val_loss: 0.8488 - val_accuracy: 0.8275\n",
      "Epoch 82/100\n",
      "250/250 [==============================] - 19s 74ms/step - loss: 0.0552 - accuracy: 0.9810 - val_loss: 0.8499 - val_accuracy: 0.8225\n",
      "Epoch 83/100\n",
      "250/250 [==============================] - 19s 75ms/step - loss: 0.0652 - accuracy: 0.9769 - val_loss: 0.8401 - val_accuracy: 0.8280\n",
      "Epoch 84/100\n",
      "250/250 [==============================] - 19s 76ms/step - loss: 0.0498 - accuracy: 0.9805 - val_loss: 1.0161 - val_accuracy: 0.8205\n",
      "Epoch 85/100\n",
      "250/250 [==============================] - 18s 71ms/step - loss: 0.0451 - accuracy: 0.9831 - val_loss: 0.9274 - val_accuracy: 0.8265\n",
      "Epoch 86/100\n",
      "250/250 [==============================] - 18s 71ms/step - loss: 0.0560 - accuracy: 0.9796 - val_loss: 0.8941 - val_accuracy: 0.8245\n",
      "Epoch 87/100\n",
      "250/250 [==============================] - 18s 70ms/step - loss: 0.0512 - accuracy: 0.9822 - val_loss: 0.8926 - val_accuracy: 0.8235\n",
      "Epoch 88/100\n",
      "250/250 [==============================] - 18s 70ms/step - loss: 0.0489 - accuracy: 0.9834 - val_loss: 0.9042 - val_accuracy: 0.8170\n",
      "Epoch 89/100\n",
      "250/250 [==============================] - 18s 70ms/step - loss: 0.0601 - accuracy: 0.9761 - val_loss: 0.8542 - val_accuracy: 0.8310\n",
      "Epoch 90/100\n",
      "250/250 [==============================] - 18s 70ms/step - loss: 0.0522 - accuracy: 0.9816 - val_loss: 0.8718 - val_accuracy: 0.8275\n",
      "Epoch 91/100\n",
      "250/250 [==============================] - 18s 73ms/step - loss: 0.0581 - accuracy: 0.9795 - val_loss: 0.9137 - val_accuracy: 0.8250\n",
      "Epoch 92/100\n",
      "250/250 [==============================] - 18s 72ms/step - loss: 0.0500 - accuracy: 0.9816 - val_loss: 0.8706 - val_accuracy: 0.8260\n",
      "Epoch 93/100\n",
      "250/250 [==============================] - 18s 73ms/step - loss: 0.0494 - accuracy: 0.9825 - val_loss: 0.9538 - val_accuracy: 0.8185\n",
      "Epoch 94/100\n",
      "250/250 [==============================] - 18s 73ms/step - loss: 0.0383 - accuracy: 0.9856 - val_loss: 1.0689 - val_accuracy: 0.8120\n",
      "Epoch 95/100\n",
      "250/250 [==============================] - 18s 73ms/step - loss: 0.0607 - accuracy: 0.9779 - val_loss: 0.9580 - val_accuracy: 0.8250\n",
      "Epoch 96/100\n",
      "250/250 [==============================] - 19s 75ms/step - loss: 0.0535 - accuracy: 0.9803 - val_loss: 0.9128 - val_accuracy: 0.8285\n",
      "Epoch 97/100\n",
      "250/250 [==============================] - 19s 78ms/step - loss: 0.0585 - accuracy: 0.9810 - val_loss: 0.9384 - val_accuracy: 0.8310\n",
      "Epoch 98/100\n",
      "250/250 [==============================] - 20s 78ms/step - loss: 0.0442 - accuracy: 0.9852 - val_loss: 0.9388 - val_accuracy: 0.8230\n",
      "Epoch 99/100\n",
      "250/250 [==============================] - 19s 77ms/step - loss: 0.0486 - accuracy: 0.9830 - val_loss: 0.8856 - val_accuracy: 0.8295\n",
      "Epoch 100/100\n",
      "250/250 [==============================] - 19s 77ms/step - loss: 0.0532 - accuracy: 0.9810 - val_loss: 1.0004 - val_accuracy: 0.8140\n"
     ]
    }
   ],
   "source": [
    "history = model.fit_generator(train_gen,\n",
    "          validation_data=valid_gen,\n",
    "          epochs = 100,\n",
    "          verbose = True)"
   ]
  },
  {
   "cell_type": "code",
   "execution_count": null,
   "metadata": {},
   "outputs": [],
   "source": []
  }
 ],
 "metadata": {
  "kernelspec": {
   "display_name": "Python 3",
   "language": "python",
   "name": "python3"
  },
  "language_info": {
   "codemirror_mode": {
    "name": "ipython",
    "version": 3
   },
   "file_extension": ".py",
   "mimetype": "text/x-python",
   "name": "python",
   "nbconvert_exporter": "python",
   "pygments_lexer": "ipython3",
   "version": "3.8.5"
  }
 },
 "nbformat": 4,
 "nbformat_minor": 4
}
